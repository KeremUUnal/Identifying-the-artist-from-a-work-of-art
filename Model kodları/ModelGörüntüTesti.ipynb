{
  "nbformat": 4,
  "nbformat_minor": 0,
  "metadata": {
    "colab": {
      "provenance": [],
      "machine_shape": "hm",
      "gpuType": "L4"
    },
    "kernelspec": {
      "name": "python3",
      "display_name": "Python 3"
    },
    "language_info": {
      "name": "python"
    },
    "accelerator": "GPU",
    "widgets": {
      "application/vnd.jupyter.widget-state+json": {
        "bd66d5fc82d34dea826eaa315c15c667": {
          "model_module": "@jupyter-widgets/controls",
          "model_name": "FileUploadModel",
          "model_module_version": "1.5.0",
          "state": {
            "_counter": 1,
            "_dom_classes": [],
            "_model_module": "@jupyter-widgets/controls",
            "_model_module_version": "1.5.0",
            "_model_name": "FileUploadModel",
            "_view_count": null,
            "_view_module": "@jupyter-widgets/controls",
            "_view_module_version": "1.5.0",
            "_view_name": "FileUploadView",
            "accept": "image/*",
            "button_style": "",
            "data": [
              null
            ],
            "description": "Upload",
            "description_tooltip": null,
            "disabled": false,
            "error": "",
            "icon": "upload",
            "layout": "IPY_MODEL_4f801d440105450690af86c60b756b6c",
            "metadata": [
              {
                "name": "1.jpg!Large.jpg_original.jpg",
                "type": "image/jpeg",
                "size": 17067,
                "lastModified": 1731446511264
              }
            ],
            "multiple": false,
            "style": "IPY_MODEL_1eeca59c72924c43904706aaae9b079d"
          }
        },
        "4f801d440105450690af86c60b756b6c": {
          "model_module": "@jupyter-widgets/base",
          "model_name": "LayoutModel",
          "model_module_version": "1.2.0",
          "state": {
            "_model_module": "@jupyter-widgets/base",
            "_model_module_version": "1.2.0",
            "_model_name": "LayoutModel",
            "_view_count": null,
            "_view_module": "@jupyter-widgets/base",
            "_view_module_version": "1.2.0",
            "_view_name": "LayoutView",
            "align_content": null,
            "align_items": null,
            "align_self": null,
            "border": null,
            "bottom": null,
            "display": null,
            "flex": null,
            "flex_flow": null,
            "grid_area": null,
            "grid_auto_columns": null,
            "grid_auto_flow": null,
            "grid_auto_rows": null,
            "grid_column": null,
            "grid_gap": null,
            "grid_row": null,
            "grid_template_areas": null,
            "grid_template_columns": null,
            "grid_template_rows": null,
            "height": null,
            "justify_content": null,
            "justify_items": null,
            "left": null,
            "margin": null,
            "max_height": null,
            "max_width": null,
            "min_height": null,
            "min_width": null,
            "object_fit": null,
            "object_position": null,
            "order": null,
            "overflow": null,
            "overflow_x": null,
            "overflow_y": null,
            "padding": null,
            "right": null,
            "top": null,
            "visibility": null,
            "width": null
          }
        },
        "1eeca59c72924c43904706aaae9b079d": {
          "model_module": "@jupyter-widgets/controls",
          "model_name": "ButtonStyleModel",
          "model_module_version": "1.5.0",
          "state": {
            "_model_module": "@jupyter-widgets/controls",
            "_model_module_version": "1.5.0",
            "_model_name": "ButtonStyleModel",
            "_view_count": null,
            "_view_module": "@jupyter-widgets/base",
            "_view_module_version": "1.2.0",
            "_view_name": "StyleView",
            "button_color": null,
            "font_weight": ""
          }
        },
        "b6f74ec1b4ff4bf7b7710323ba5ff09a": {
          "model_module": "@jupyter-widgets/output",
          "model_name": "OutputModel",
          "model_module_version": "1.0.0",
          "state": {
            "_dom_classes": [],
            "_model_module": "@jupyter-widgets/output",
            "_model_module_version": "1.0.0",
            "_model_name": "OutputModel",
            "_view_count": null,
            "_view_module": "@jupyter-widgets/output",
            "_view_module_version": "1.0.0",
            "_view_name": "OutputView",
            "layout": "IPY_MODEL_0c888222d51c4cc1bf2b5440eac03cf3",
            "msg_id": "",
            "outputs": [
              {
                "output_type": "display_data",
                "data": {
                  "image/png": "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\n",
                  "text/plain": "<IPython.core.display.Image object>"
                },
                "metadata": {}
              },
              {
                "output_type": "stream",
                "name": "stdout",
                "text": [
                  "Tahmin edilen kategori: rembrandt\n"
                ]
              }
            ]
          }
        },
        "0c888222d51c4cc1bf2b5440eac03cf3": {
          "model_module": "@jupyter-widgets/base",
          "model_name": "LayoutModel",
          "model_module_version": "1.2.0",
          "state": {
            "_model_module": "@jupyter-widgets/base",
            "_model_module_version": "1.2.0",
            "_model_name": "LayoutModel",
            "_view_count": null,
            "_view_module": "@jupyter-widgets/base",
            "_view_module_version": "1.2.0",
            "_view_name": "LayoutView",
            "align_content": null,
            "align_items": null,
            "align_self": null,
            "border": null,
            "bottom": null,
            "display": null,
            "flex": null,
            "flex_flow": null,
            "grid_area": null,
            "grid_auto_columns": null,
            "grid_auto_flow": null,
            "grid_auto_rows": null,
            "grid_column": null,
            "grid_gap": null,
            "grid_row": null,
            "grid_template_areas": null,
            "grid_template_columns": null,
            "grid_template_rows": null,
            "height": null,
            "justify_content": null,
            "justify_items": null,
            "left": null,
            "margin": null,
            "max_height": null,
            "max_width": null,
            "min_height": null,
            "min_width": null,
            "object_fit": null,
            "object_position": null,
            "order": null,
            "overflow": null,
            "overflow_x": null,
            "overflow_y": null,
            "padding": null,
            "right": null,
            "top": null,
            "visibility": null,
            "width": null
          }
        }
      }
    }
  },
  "cells": [
    {
      "cell_type": "code",
      "execution_count": null,
      "metadata": {
        "colab": {
          "base_uri": "https://localhost:8080/"
        },
        "id": "lYzghpD3eld2",
        "outputId": "3ac86e8b-6b26-4e33-acee-32d58ca83dff"
      },
      "outputs": [
        {
          "output_type": "stream",
          "name": "stdout",
          "text": [
            "Drive already mounted at /content/drive; to attempt to forcibly remount, call drive.mount(\"/content/drive\", force_remount=True).\n"
          ]
        }
      ],
      "source": [
        "from google.colab import drive\n",
        "drive.mount('/content/drive')"
      ]
    },
    {
      "cell_type": "code",
      "source": [
        "from torchvision import datasets, transforms\n",
        "from torch.utils.data import DataLoader\n",
        "\n",
        "transform = transforms.Compose([\n",
        "    transforms.Resize((224, 224)),\n",
        "    transforms.ToTensor(),\n",
        "    transforms.Normalize([0.5, 0.5, 0.5], [0.5, 0.5, 0.5])\n",
        "])\n",
        "\n",
        "testVeriSeti = datasets.ImageFolder('/content/drive/My Drive/YapayZekaRessam/test', transform=transform)\n",
        "testYukleyici = DataLoader(testVeriSeti, batch_size=32, shuffle=False, num_workers=4)\n",
        "\n",
        "\n",
        "sinifAdlari = testVeriSeti.classes\n",
        "print('Test verileri hazırlandı.')"
      ],
      "metadata": {
        "colab": {
          "base_uri": "https://localhost:8080/"
        },
        "id": "dJ2GbCk4ewoA",
        "outputId": "f9b275e6-53df-4633-c1b3-79db18ea8c47"
      },
      "execution_count": null,
      "outputs": [
        {
          "output_type": "stream",
          "name": "stdout",
          "text": [
            "Test verileri hazırlandı.\n"
          ]
        }
      ]
    },
    {
      "cell_type": "code",
      "source": [
        "import torch\n",
        "import torch.nn as nn\n",
        "from timm import create_model\n",
        "\n",
        "cihaz = torch.device(\"cuda\" if torch.cuda.is_available() else \"cpu\")\n",
        "print(f'Cihaz: {cihaz}')\n",
        "\n",
        "model = create_model('vit_base_patch16_224', pretrained=False)\n",
        "model.head = nn.Linear(model.head.in_features, 10)\n",
        "model = model.to(cihaz)\n",
        "\n",
        "model_yolu = '/content/drive/My Drive/colabmodels/vitmodelson.pth'\n",
        "kayit_dict = torch.load(model_yolu)\n",
        "\n",
        "model.load_state_dict(kayit_dict['model_state_dict'])\n",
        "\n",
        "print('ViT modeli başarıyla yüklendi ve hazır.')"
      ],
      "metadata": {
        "colab": {
          "base_uri": "https://localhost:8080/"
        },
        "id": "sWR1cNK-ezbw",
        "outputId": "573a1a12-37b0-4df0-e315-d29a9f5d69b2"
      },
      "execution_count": null,
      "outputs": [
        {
          "output_type": "stream",
          "name": "stdout",
          "text": [
            "Cihaz: cuda\n"
          ]
        },
        {
          "output_type": "stream",
          "name": "stderr",
          "text": [
            "<ipython-input-3-3824091a3c27>:13: FutureWarning: You are using `torch.load` with `weights_only=False` (the current default value), which uses the default pickle module implicitly. It is possible to construct malicious pickle data which will execute arbitrary code during unpickling (See https://github.com/pytorch/pytorch/blob/main/SECURITY.md#untrusted-models for more details). In a future release, the default value for `weights_only` will be flipped to `True`. This limits the functions that could be executed during unpickling. Arbitrary objects will no longer be allowed to be loaded via this mode unless they are explicitly allowlisted by the user via `torch.serialization.add_safe_globals`. We recommend you start setting `weights_only=True` for any use case where you don't have full control of the loaded file. Please open an issue on GitHub for any issues related to this experimental feature.\n",
            "  kayit_dict = torch.load(model_yolu)\n"
          ]
        },
        {
          "output_type": "stream",
          "name": "stdout",
          "text": [
            "ViT modeli başarıyla yüklendi ve hazır.\n"
          ]
        }
      ]
    },
    {
      "cell_type": "code",
      "source": [
        "import io\n",
        "import ipywidgets as widgets\n",
        "from IPython.display import display, Image as IPImage, clear_output\n",
        "from PIL import Image\n",
        "\n",
        "yukleme_butonu = widgets.FileUpload(accept='image/*', multiple=False)\n",
        "cikti = widgets.Output()\n",
        "\n",
        "display(yukleme_butonu)\n",
        "display(cikti)\n",
        "\n",
        "def tahmin_et(degisim):\n",
        "    global cikti\n",
        "    with cikti:\n",
        "        clear_output()\n",
        "        yuklenen_dosya = yukleme_butonu.value\n",
        "        if len(yuklenen_dosya) > 0:\n",
        "            img_veri = list(yuklenen_dosya.values())[0]['content']\n",
        "            img = Image.open(io.BytesIO(img_veri)).convert('RGB')\n",
        "            img_tensor = transform(img).unsqueeze(0).to(cihaz)\n",
        "\n",
        "            model.eval()\n",
        "            with torch.no_grad():\n",
        "                cikti = model(img_tensor)\n",
        "                _, tahmin = torch.max(cikti, 1)\n",
        "\n",
        "            display(IPImage(data=img_veri, format='png'))\n",
        "            print(f'Tahmin edilen kategori: {sinifAdlari[tahmin.item()]}')\n",
        "\n",
        "yukleme_butonu.observe(tahmin_et, names='value')"
      ],
      "metadata": {
        "colab": {
          "base_uri": "https://localhost:8080/",
          "height": 487,
          "referenced_widgets": [
            "bd66d5fc82d34dea826eaa315c15c667",
            "4f801d440105450690af86c60b756b6c",
            "1eeca59c72924c43904706aaae9b079d",
            "b6f74ec1b4ff4bf7b7710323ba5ff09a",
            "0c888222d51c4cc1bf2b5440eac03cf3"
          ]
        },
        "id": "kFyA0E2AfMXI",
        "outputId": "dd965df2-4e6c-4c46-8310-a4c6cf88e709"
      },
      "execution_count": null,
      "outputs": [
        {
          "output_type": "display_data",
          "data": {
            "text/plain": [
              "FileUpload(value={}, accept='image/*', description='Upload')"
            ],
            "application/vnd.jupyter.widget-view+json": {
              "version_major": 2,
              "version_minor": 0,
              "model_id": "bd66d5fc82d34dea826eaa315c15c667"
            }
          },
          "metadata": {}
        },
        {
          "output_type": "display_data",
          "data": {
            "text/plain": [
              "Output()"
            ],
            "application/vnd.jupyter.widget-view+json": {
              "version_major": 2,
              "version_minor": 0,
              "model_id": "b6f74ec1b4ff4bf7b7710323ba5ff09a"
            }
          },
          "metadata": {}
        }
      ]
    }
  ]
}