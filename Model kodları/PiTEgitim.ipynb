{
  "nbformat": 4,
  "nbformat_minor": 0,
  "metadata": {
    "colab": {
      "provenance": [],
      "machine_shape": "hm",
      "gpuType": "L4"
    },
    "kernelspec": {
      "name": "python3",
      "display_name": "Python 3"
    },
    "language_info": {
      "name": "python"
    },
    "accelerator": "GPU",
    "widgets": {
      "application/vnd.jupyter.widget-state+json": {
        "cb0892ce46f441daae97c47726910349": {
          "model_module": "@jupyter-widgets/controls",
          "model_name": "HBoxModel",
          "model_module_version": "1.5.0",
          "state": {
            "_dom_classes": [],
            "_model_module": "@jupyter-widgets/controls",
            "_model_module_version": "1.5.0",
            "_model_name": "HBoxModel",
            "_view_count": null,
            "_view_module": "@jupyter-widgets/controls",
            "_view_module_version": "1.5.0",
            "_view_name": "HBoxView",
            "box_style": "",
            "children": [
              "IPY_MODEL_6c784310691f4bcbb075e031635f57e9",
              "IPY_MODEL_2e52210a460e4bc39e29985fffad7821",
              "IPY_MODEL_7c11d3842e5346239e51c59b87723295"
            ],
            "layout": "IPY_MODEL_a61690e929324cd893c9a855ff808d56"
          }
        },
        "6c784310691f4bcbb075e031635f57e9": {
          "model_module": "@jupyter-widgets/controls",
          "model_name": "HTMLModel",
          "model_module_version": "1.5.0",
          "state": {
            "_dom_classes": [],
            "_model_module": "@jupyter-widgets/controls",
            "_model_module_version": "1.5.0",
            "_model_name": "HTMLModel",
            "_view_count": null,
            "_view_module": "@jupyter-widgets/controls",
            "_view_module_version": "1.5.0",
            "_view_name": "HTMLView",
            "description": "",
            "description_tooltip": null,
            "layout": "IPY_MODEL_9f96658fc2d2459cb6ee1078a0638821",
            "placeholder": "​",
            "style": "IPY_MODEL_429d6adab1c74353af69c018ed8c7ad9",
            "value": "model.safetensors: 100%"
          }
        },
        "2e52210a460e4bc39e29985fffad7821": {
          "model_module": "@jupyter-widgets/controls",
          "model_name": "FloatProgressModel",
          "model_module_version": "1.5.0",
          "state": {
            "_dom_classes": [],
            "_model_module": "@jupyter-widgets/controls",
            "_model_module_version": "1.5.0",
            "_model_name": "FloatProgressModel",
            "_view_count": null,
            "_view_module": "@jupyter-widgets/controls",
            "_view_module_version": "1.5.0",
            "_view_name": "ProgressView",
            "bar_style": "success",
            "description": "",
            "description_tooltip": null,
            "layout": "IPY_MODEL_aadb7950c2ba43768f107356ff6c804c",
            "max": 295077538,
            "min": 0,
            "orientation": "horizontal",
            "style": "IPY_MODEL_92f7b1de7a0c436b9d86e73a9493a26a",
            "value": 295077538
          }
        },
        "7c11d3842e5346239e51c59b87723295": {
          "model_module": "@jupyter-widgets/controls",
          "model_name": "HTMLModel",
          "model_module_version": "1.5.0",
          "state": {
            "_dom_classes": [],
            "_model_module": "@jupyter-widgets/controls",
            "_model_module_version": "1.5.0",
            "_model_name": "HTMLModel",
            "_view_count": null,
            "_view_module": "@jupyter-widgets/controls",
            "_view_module_version": "1.5.0",
            "_view_name": "HTMLView",
            "description": "",
            "description_tooltip": null,
            "layout": "IPY_MODEL_2bfc0f66c8ca45d9acf726619d6b200f",
            "placeholder": "​",
            "style": "IPY_MODEL_8e86b18676c44060b6bef8a2db2abf82",
            "value": " 295M/295M [00:01&lt;00:00, 243MB/s]"
          }
        },
        "a61690e929324cd893c9a855ff808d56": {
          "model_module": "@jupyter-widgets/base",
          "model_name": "LayoutModel",
          "model_module_version": "1.2.0",
          "state": {
            "_model_module": "@jupyter-widgets/base",
            "_model_module_version": "1.2.0",
            "_model_name": "LayoutModel",
            "_view_count": null,
            "_view_module": "@jupyter-widgets/base",
            "_view_module_version": "1.2.0",
            "_view_name": "LayoutView",
            "align_content": null,
            "align_items": null,
            "align_self": null,
            "border": null,
            "bottom": null,
            "display": null,
            "flex": null,
            "flex_flow": null,
            "grid_area": null,
            "grid_auto_columns": null,
            "grid_auto_flow": null,
            "grid_auto_rows": null,
            "grid_column": null,
            "grid_gap": null,
            "grid_row": null,
            "grid_template_areas": null,
            "grid_template_columns": null,
            "grid_template_rows": null,
            "height": null,
            "justify_content": null,
            "justify_items": null,
            "left": null,
            "margin": null,
            "max_height": null,
            "max_width": null,
            "min_height": null,
            "min_width": null,
            "object_fit": null,
            "object_position": null,
            "order": null,
            "overflow": null,
            "overflow_x": null,
            "overflow_y": null,
            "padding": null,
            "right": null,
            "top": null,
            "visibility": null,
            "width": null
          }
        },
        "9f96658fc2d2459cb6ee1078a0638821": {
          "model_module": "@jupyter-widgets/base",
          "model_name": "LayoutModel",
          "model_module_version": "1.2.0",
          "state": {
            "_model_module": "@jupyter-widgets/base",
            "_model_module_version": "1.2.0",
            "_model_name": "LayoutModel",
            "_view_count": null,
            "_view_module": "@jupyter-widgets/base",
            "_view_module_version": "1.2.0",
            "_view_name": "LayoutView",
            "align_content": null,
            "align_items": null,
            "align_self": null,
            "border": null,
            "bottom": null,
            "display": null,
            "flex": null,
            "flex_flow": null,
            "grid_area": null,
            "grid_auto_columns": null,
            "grid_auto_flow": null,
            "grid_auto_rows": null,
            "grid_column": null,
            "grid_gap": null,
            "grid_row": null,
            "grid_template_areas": null,
            "grid_template_columns": null,
            "grid_template_rows": null,
            "height": null,
            "justify_content": null,
            "justify_items": null,
            "left": null,
            "margin": null,
            "max_height": null,
            "max_width": null,
            "min_height": null,
            "min_width": null,
            "object_fit": null,
            "object_position": null,
            "order": null,
            "overflow": null,
            "overflow_x": null,
            "overflow_y": null,
            "padding": null,
            "right": null,
            "top": null,
            "visibility": null,
            "width": null
          }
        },
        "429d6adab1c74353af69c018ed8c7ad9": {
          "model_module": "@jupyter-widgets/controls",
          "model_name": "DescriptionStyleModel",
          "model_module_version": "1.5.0",
          "state": {
            "_model_module": "@jupyter-widgets/controls",
            "_model_module_version": "1.5.0",
            "_model_name": "DescriptionStyleModel",
            "_view_count": null,
            "_view_module": "@jupyter-widgets/base",
            "_view_module_version": "1.2.0",
            "_view_name": "StyleView",
            "description_width": ""
          }
        },
        "aadb7950c2ba43768f107356ff6c804c": {
          "model_module": "@jupyter-widgets/base",
          "model_name": "LayoutModel",
          "model_module_version": "1.2.0",
          "state": {
            "_model_module": "@jupyter-widgets/base",
            "_model_module_version": "1.2.0",
            "_model_name": "LayoutModel",
            "_view_count": null,
            "_view_module": "@jupyter-widgets/base",
            "_view_module_version": "1.2.0",
            "_view_name": "LayoutView",
            "align_content": null,
            "align_items": null,
            "align_self": null,
            "border": null,
            "bottom": null,
            "display": null,
            "flex": null,
            "flex_flow": null,
            "grid_area": null,
            "grid_auto_columns": null,
            "grid_auto_flow": null,
            "grid_auto_rows": null,
            "grid_column": null,
            "grid_gap": null,
            "grid_row": null,
            "grid_template_areas": null,
            "grid_template_columns": null,
            "grid_template_rows": null,
            "height": null,
            "justify_content": null,
            "justify_items": null,
            "left": null,
            "margin": null,
            "max_height": null,
            "max_width": null,
            "min_height": null,
            "min_width": null,
            "object_fit": null,
            "object_position": null,
            "order": null,
            "overflow": null,
            "overflow_x": null,
            "overflow_y": null,
            "padding": null,
            "right": null,
            "top": null,
            "visibility": null,
            "width": null
          }
        },
        "92f7b1de7a0c436b9d86e73a9493a26a": {
          "model_module": "@jupyter-widgets/controls",
          "model_name": "ProgressStyleModel",
          "model_module_version": "1.5.0",
          "state": {
            "_model_module": "@jupyter-widgets/controls",
            "_model_module_version": "1.5.0",
            "_model_name": "ProgressStyleModel",
            "_view_count": null,
            "_view_module": "@jupyter-widgets/base",
            "_view_module_version": "1.2.0",
            "_view_name": "StyleView",
            "bar_color": null,
            "description_width": ""
          }
        },
        "2bfc0f66c8ca45d9acf726619d6b200f": {
          "model_module": "@jupyter-widgets/base",
          "model_name": "LayoutModel",
          "model_module_version": "1.2.0",
          "state": {
            "_model_module": "@jupyter-widgets/base",
            "_model_module_version": "1.2.0",
            "_model_name": "LayoutModel",
            "_view_count": null,
            "_view_module": "@jupyter-widgets/base",
            "_view_module_version": "1.2.0",
            "_view_name": "LayoutView",
            "align_content": null,
            "align_items": null,
            "align_self": null,
            "border": null,
            "bottom": null,
            "display": null,
            "flex": null,
            "flex_flow": null,
            "grid_area": null,
            "grid_auto_columns": null,
            "grid_auto_flow": null,
            "grid_auto_rows": null,
            "grid_column": null,
            "grid_gap": null,
            "grid_row": null,
            "grid_template_areas": null,
            "grid_template_columns": null,
            "grid_template_rows": null,
            "height": null,
            "justify_content": null,
            "justify_items": null,
            "left": null,
            "margin": null,
            "max_height": null,
            "max_width": null,
            "min_height": null,
            "min_width": null,
            "object_fit": null,
            "object_position": null,
            "order": null,
            "overflow": null,
            "overflow_x": null,
            "overflow_y": null,
            "padding": null,
            "right": null,
            "top": null,
            "visibility": null,
            "width": null
          }
        },
        "8e86b18676c44060b6bef8a2db2abf82": {
          "model_module": "@jupyter-widgets/controls",
          "model_name": "DescriptionStyleModel",
          "model_module_version": "1.5.0",
          "state": {
            "_model_module": "@jupyter-widgets/controls",
            "_model_module_version": "1.5.0",
            "_model_name": "DescriptionStyleModel",
            "_view_count": null,
            "_view_module": "@jupyter-widgets/base",
            "_view_module_version": "1.2.0",
            "_view_name": "StyleView",
            "description_width": ""
          }
        },
        "04c91f73efdd4aeabc9b3d13507190e4": {
          "model_module": "@jupyter-widgets/controls",
          "model_name": "HBoxModel",
          "model_module_version": "1.5.0",
          "state": {
            "_dom_classes": [],
            "_model_module": "@jupyter-widgets/controls",
            "_model_module_version": "1.5.0",
            "_model_name": "HBoxModel",
            "_view_count": null,
            "_view_module": "@jupyter-widgets/controls",
            "_view_module_version": "1.5.0",
            "_view_name": "HBoxView",
            "box_style": "",
            "children": [
              "IPY_MODEL_f129f0bfa5b34a6b81f8a6ac3b00b187",
              "IPY_MODEL_fa9ae4882ba34f1fa102021d77ea832b",
              "IPY_MODEL_57b69345312f40cdb8b14e03f2df7a88"
            ],
            "layout": "IPY_MODEL_2a0a377f8c9f47ddbb3b75210fc1003a"
          }
        },
        "f129f0bfa5b34a6b81f8a6ac3b00b187": {
          "model_module": "@jupyter-widgets/controls",
          "model_name": "HTMLModel",
          "model_module_version": "1.5.0",
          "state": {
            "_dom_classes": [],
            "_model_module": "@jupyter-widgets/controls",
            "_model_module_version": "1.5.0",
            "_model_name": "HTMLModel",
            "_view_count": null,
            "_view_module": "@jupyter-widgets/controls",
            "_view_module_version": "1.5.0",
            "_view_name": "HTMLView",
            "description": "",
            "description_tooltip": null,
            "layout": "IPY_MODEL_5910e60944ed47b58fa469a92aacc834",
            "placeholder": "​",
            "style": "IPY_MODEL_5b8b724fbfcf4e2aa868efb6403398a7",
            "value": ""
          }
        },
        "fa9ae4882ba34f1fa102021d77ea832b": {
          "model_module": "@jupyter-widgets/controls",
          "model_name": "FloatProgressModel",
          "model_module_version": "1.5.0",
          "state": {
            "_dom_classes": [],
            "_model_module": "@jupyter-widgets/controls",
            "_model_module_version": "1.5.0",
            "_model_name": "FloatProgressModel",
            "_view_count": null,
            "_view_module": "@jupyter-widgets/controls",
            "_view_module_version": "1.5.0",
            "_view_name": "ProgressView",
            "bar_style": "success",
            "description": "",
            "description_tooltip": null,
            "layout": "IPY_MODEL_3d4ea84bb09c4fe4b4e3b2d8264b98d7",
            "max": 1,
            "min": 0,
            "orientation": "horizontal",
            "style": "IPY_MODEL_759f640ca2804224b823f67fcbdfcd31",
            "value": 0
          }
        },
        "57b69345312f40cdb8b14e03f2df7a88": {
          "model_module": "@jupyter-widgets/controls",
          "model_name": "HTMLModel",
          "model_module_version": "1.5.0",
          "state": {
            "_dom_classes": [],
            "_model_module": "@jupyter-widgets/controls",
            "_model_module_version": "1.5.0",
            "_model_name": "HTMLModel",
            "_view_count": null,
            "_view_module": "@jupyter-widgets/controls",
            "_view_module_version": "1.5.0",
            "_view_name": "HTMLView",
            "description": "",
            "description_tooltip": null,
            "layout": "IPY_MODEL_99458f4ee0b6408bb4e6c95e15687737",
            "placeholder": "​",
            "style": "IPY_MODEL_6c175c1106954ba796db04ee3bd2af40",
            "value": " 0/0 [00:00&lt;?, ?it/s]"
          }
        },
        "2a0a377f8c9f47ddbb3b75210fc1003a": {
          "model_module": "@jupyter-widgets/base",
          "model_name": "LayoutModel",
          "model_module_version": "1.2.0",
          "state": {
            "_model_module": "@jupyter-widgets/base",
            "_model_module_version": "1.2.0",
            "_model_name": "LayoutModel",
            "_view_count": null,
            "_view_module": "@jupyter-widgets/base",
            "_view_module_version": "1.2.0",
            "_view_name": "LayoutView",
            "align_content": null,
            "align_items": null,
            "align_self": null,
            "border": null,
            "bottom": null,
            "display": null,
            "flex": null,
            "flex_flow": null,
            "grid_area": null,
            "grid_auto_columns": null,
            "grid_auto_flow": null,
            "grid_auto_rows": null,
            "grid_column": null,
            "grid_gap": null,
            "grid_row": null,
            "grid_template_areas": null,
            "grid_template_columns": null,
            "grid_template_rows": null,
            "height": null,
            "justify_content": null,
            "justify_items": null,
            "left": null,
            "margin": null,
            "max_height": null,
            "max_width": null,
            "min_height": null,
            "min_width": null,
            "object_fit": null,
            "object_position": null,
            "order": null,
            "overflow": null,
            "overflow_x": null,
            "overflow_y": null,
            "padding": null,
            "right": null,
            "top": null,
            "visibility": null,
            "width": null
          }
        },
        "5910e60944ed47b58fa469a92aacc834": {
          "model_module": "@jupyter-widgets/base",
          "model_name": "LayoutModel",
          "model_module_version": "1.2.0",
          "state": {
            "_model_module": "@jupyter-widgets/base",
            "_model_module_version": "1.2.0",
            "_model_name": "LayoutModel",
            "_view_count": null,
            "_view_module": "@jupyter-widgets/base",
            "_view_module_version": "1.2.0",
            "_view_name": "LayoutView",
            "align_content": null,
            "align_items": null,
            "align_self": null,
            "border": null,
            "bottom": null,
            "display": null,
            "flex": null,
            "flex_flow": null,
            "grid_area": null,
            "grid_auto_columns": null,
            "grid_auto_flow": null,
            "grid_auto_rows": null,
            "grid_column": null,
            "grid_gap": null,
            "grid_row": null,
            "grid_template_areas": null,
            "grid_template_columns": null,
            "grid_template_rows": null,
            "height": null,
            "justify_content": null,
            "justify_items": null,
            "left": null,
            "margin": null,
            "max_height": null,
            "max_width": null,
            "min_height": null,
            "min_width": null,
            "object_fit": null,
            "object_position": null,
            "order": null,
            "overflow": null,
            "overflow_x": null,
            "overflow_y": null,
            "padding": null,
            "right": null,
            "top": null,
            "visibility": null,
            "width": null
          }
        },
        "5b8b724fbfcf4e2aa868efb6403398a7": {
          "model_module": "@jupyter-widgets/controls",
          "model_name": "DescriptionStyleModel",
          "model_module_version": "1.5.0",
          "state": {
            "_model_module": "@jupyter-widgets/controls",
            "_model_module_version": "1.5.0",
            "_model_name": "DescriptionStyleModel",
            "_view_count": null,
            "_view_module": "@jupyter-widgets/base",
            "_view_module_version": "1.2.0",
            "_view_name": "StyleView",
            "description_width": ""
          }
        },
        "3d4ea84bb09c4fe4b4e3b2d8264b98d7": {
          "model_module": "@jupyter-widgets/base",
          "model_name": "LayoutModel",
          "model_module_version": "1.2.0",
          "state": {
            "_model_module": "@jupyter-widgets/base",
            "_model_module_version": "1.2.0",
            "_model_name": "LayoutModel",
            "_view_count": null,
            "_view_module": "@jupyter-widgets/base",
            "_view_module_version": "1.2.0",
            "_view_name": "LayoutView",
            "align_content": null,
            "align_items": null,
            "align_self": null,
            "border": null,
            "bottom": null,
            "display": null,
            "flex": null,
            "flex_flow": null,
            "grid_area": null,
            "grid_auto_columns": null,
            "grid_auto_flow": null,
            "grid_auto_rows": null,
            "grid_column": null,
            "grid_gap": null,
            "grid_row": null,
            "grid_template_areas": null,
            "grid_template_columns": null,
            "grid_template_rows": null,
            "height": null,
            "justify_content": null,
            "justify_items": null,
            "left": null,
            "margin": null,
            "max_height": null,
            "max_width": null,
            "min_height": null,
            "min_width": null,
            "object_fit": null,
            "object_position": null,
            "order": null,
            "overflow": null,
            "overflow_x": null,
            "overflow_y": null,
            "padding": null,
            "right": null,
            "top": null,
            "visibility": null,
            "width": "20px"
          }
        },
        "759f640ca2804224b823f67fcbdfcd31": {
          "model_module": "@jupyter-widgets/controls",
          "model_name": "ProgressStyleModel",
          "model_module_version": "1.5.0",
          "state": {
            "_model_module": "@jupyter-widgets/controls",
            "_model_module_version": "1.5.0",
            "_model_name": "ProgressStyleModel",
            "_view_count": null,
            "_view_module": "@jupyter-widgets/base",
            "_view_module_version": "1.2.0",
            "_view_name": "StyleView",
            "bar_color": null,
            "description_width": ""
          }
        },
        "99458f4ee0b6408bb4e6c95e15687737": {
          "model_module": "@jupyter-widgets/base",
          "model_name": "LayoutModel",
          "model_module_version": "1.2.0",
          "state": {
            "_model_module": "@jupyter-widgets/base",
            "_model_module_version": "1.2.0",
            "_model_name": "LayoutModel",
            "_view_count": null,
            "_view_module": "@jupyter-widgets/base",
            "_view_module_version": "1.2.0",
            "_view_name": "LayoutView",
            "align_content": null,
            "align_items": null,
            "align_self": null,
            "border": null,
            "bottom": null,
            "display": null,
            "flex": null,
            "flex_flow": null,
            "grid_area": null,
            "grid_auto_columns": null,
            "grid_auto_flow": null,
            "grid_auto_rows": null,
            "grid_column": null,
            "grid_gap": null,
            "grid_row": null,
            "grid_template_areas": null,
            "grid_template_columns": null,
            "grid_template_rows": null,
            "height": null,
            "justify_content": null,
            "justify_items": null,
            "left": null,
            "margin": null,
            "max_height": null,
            "max_width": null,
            "min_height": null,
            "min_width": null,
            "object_fit": null,
            "object_position": null,
            "order": null,
            "overflow": null,
            "overflow_x": null,
            "overflow_y": null,
            "padding": null,
            "right": null,
            "top": null,
            "visibility": null,
            "width": null
          }
        },
        "6c175c1106954ba796db04ee3bd2af40": {
          "model_module": "@jupyter-widgets/controls",
          "model_name": "DescriptionStyleModel",
          "model_module_version": "1.5.0",
          "state": {
            "_model_module": "@jupyter-widgets/controls",
            "_model_module_version": "1.5.0",
            "_model_name": "DescriptionStyleModel",
            "_view_count": null,
            "_view_module": "@jupyter-widgets/base",
            "_view_module_version": "1.2.0",
            "_view_name": "StyleView",
            "description_width": ""
          }
        }
      }
    }
  },
  "cells": [
    {
      "cell_type": "code",
      "execution_count": 1,
      "metadata": {
        "colab": {
          "base_uri": "https://localhost:8080/"
        },
        "id": "jrwqcgV0NcJC",
        "outputId": "557c70f2-7d25-4795-c574-a9c5eea2cb6a"
      },
      "outputs": [
        {
          "output_type": "stream",
          "name": "stdout",
          "text": [
            "Mounted at /content/drive\n"
          ]
        }
      ],
      "source": [
        "from google.colab import drive\n",
        "drive.mount('/content/drive')"
      ]
    },
    {
      "cell_type": "code",
      "source": [
        "import os\n",
        "import torch\n",
        "from torchvision import datasets, transforms\n",
        "\n",
        "veriDizini = '/content/drive/My Drive/YapayZekaRessam'\n",
        "transform = transforms.Compose([\n",
        "    transforms.Resize((224, 224)),\n",
        "    transforms.ToTensor(),\n",
        "    transforms.Normalize((0.5, 0.5, 0.5), (0.5, 0.5, 0.5))\n",
        "])\n",
        "\n",
        "batch_size = 128\n",
        "\n",
        "egitimSeti = datasets.ImageFolder(os.path.join(veriDizini, 'train'), transform=transform)\n",
        "egitimYukleyici = torch.utils.data.DataLoader(egitimSeti, batch_size=batch_size, shuffle=True, num_workers=4)\n",
        "\n",
        "dogrulamaSeti = datasets.ImageFolder(os.path.join(veriDizini, 'val'), transform=transform)\n",
        "dogrulamaYukleyici = torch.utils.data.DataLoader(dogrulamaSeti, batch_size=batch_size, shuffle=False, num_workers=4)\n",
        "\n",
        "testSeti = datasets.ImageFolder(os.path.join(veriDizini, 'test'), transform=transform)\n",
        "testYukleyici = torch.utils.data.DataLoader(testSeti, batch_size=batch_size, shuffle=False, num_workers=4)\n",
        "\n",
        "yukleyiciler = {\n",
        "    'train': egitimYukleyici,\n",
        "    'val': dogrulamaYukleyici,\n",
        "    'test': testYukleyici,\n",
        "}\n",
        "\n",
        "veriSetiBoyutlari = {\n",
        "    'train': len(egitimSeti),\n",
        "    'val': len(dogrulamaSeti),\n",
        "    'test': len(testSeti)\n",
        "}\n",
        "\n",
        "siniflar = egitimSeti.classes\n",
        "print(f\"Veri seti başarıyla yüklendi ve hazırlandı. Sınıflar: {siniflar}\")\n"
      ],
      "metadata": {
        "colab": {
          "base_uri": "https://localhost:8080/"
        },
        "id": "WfmSO466N5Vv",
        "outputId": "146e5114-6bd6-4c13-d0a7-d1335c00f040"
      },
      "execution_count": 2,
      "outputs": [
        {
          "output_type": "stream",
          "name": "stdout",
          "text": [
            "Veri seti başarıyla yüklendi ve hazırlandı. Sınıflar: ['Eyvind Earle420_artırılmış', 'Henri Matisse420_artırılmış', 'HenriMartin420_artırılmış', 'MarcChagall_420_artırılmış', 'Monet420_artırılmış', 'picasso_aug', 'pierre_aug', 'rembrandt_aug', 'salvador_aug', 'vangogh_aug']\n"
          ]
        }
      ]
    },
    {
      "cell_type": "code",
      "source": [
        "import torch\n",
        "import torch.nn as nn\n",
        "from timm import create_model\n",
        "\n",
        "cihaz = torch.device(\"cuda\" if torch.cuda.is_available() else \"cpu\")\n",
        "model = create_model('pit_b_224', pretrained=True)\n",
        "model.head = nn.Linear(model.head.in_features, 10)\n",
        "model = model.to(cihaz)\n",
        "\n",
        "print('Pit base modeli oluşturuldu ve GPU\\'ya yüklendi.')"
      ],
      "metadata": {
        "id": "XZ9JnpeoSctm",
        "colab": {
          "base_uri": "https://localhost:8080/",
          "height": 196,
          "referenced_widgets": [
            "cb0892ce46f441daae97c47726910349",
            "6c784310691f4bcbb075e031635f57e9",
            "2e52210a460e4bc39e29985fffad7821",
            "7c11d3842e5346239e51c59b87723295",
            "a61690e929324cd893c9a855ff808d56",
            "9f96658fc2d2459cb6ee1078a0638821",
            "429d6adab1c74353af69c018ed8c7ad9",
            "aadb7950c2ba43768f107356ff6c804c",
            "92f7b1de7a0c436b9d86e73a9493a26a",
            "2bfc0f66c8ca45d9acf726619d6b200f",
            "8e86b18676c44060b6bef8a2db2abf82"
          ]
        },
        "outputId": "cbe684e0-8f68-411e-bd27-1bf51186585b"
      },
      "execution_count": 3,
      "outputs": [
        {
          "output_type": "stream",
          "name": "stderr",
          "text": [
            "/usr/local/lib/python3.10/dist-packages/huggingface_hub/utils/_auth.py:94: UserWarning: \n",
            "The secret `HF_TOKEN` does not exist in your Colab secrets.\n",
            "To authenticate with the Hugging Face Hub, create a token in your settings tab (https://huggingface.co/settings/tokens), set it as secret in your Google Colab and restart your session.\n",
            "You will be able to reuse this secret in all of your notebooks.\n",
            "Please note that authentication is recommended but still optional to access public models or datasets.\n",
            "  warnings.warn(\n"
          ]
        },
        {
          "output_type": "display_data",
          "data": {
            "text/plain": [
              "model.safetensors:   0%|          | 0.00/295M [00:00<?, ?B/s]"
            ],
            "application/vnd.jupyter.widget-view+json": {
              "version_major": 2,
              "version_minor": 0,
              "model_id": "cb0892ce46f441daae97c47726910349"
            }
          },
          "metadata": {}
        },
        {
          "output_type": "stream",
          "name": "stdout",
          "text": [
            "Pit base modeli oluşturuldu ve GPU'ya yüklendi.\n"
          ]
        }
      ]
    },
    {
      "cell_type": "code",
      "source": [
        "from transformers import AutoFeatureExtractor, BeitForImageClassification\n",
        "import torch\n",
        "from torch.utils.data import DataLoader, Dataset\n",
        "from torchvision import datasets, transforms\n",
        "import matplotlib.pyplot as plt\n",
        "import numpy as np\n",
        "from PIL import Image\n",
        "import os\n",
        "import time"
      ],
      "metadata": {
        "id": "yggifBidZglp",
        "colab": {
          "base_uri": "https://localhost:8080/",
          "height": 87,
          "referenced_widgets": [
            "04c91f73efdd4aeabc9b3d13507190e4",
            "f129f0bfa5b34a6b81f8a6ac3b00b187",
            "fa9ae4882ba34f1fa102021d77ea832b",
            "57b69345312f40cdb8b14e03f2df7a88",
            "2a0a377f8c9f47ddbb3b75210fc1003a",
            "5910e60944ed47b58fa469a92aacc834",
            "5b8b724fbfcf4e2aa868efb6403398a7",
            "3d4ea84bb09c4fe4b4e3b2d8264b98d7",
            "759f640ca2804224b823f67fcbdfcd31",
            "99458f4ee0b6408bb4e6c95e15687737",
            "6c175c1106954ba796db04ee3bd2af40"
          ]
        },
        "outputId": "124ba4ad-1461-4927-ae51-c6e55166b4c8"
      },
      "execution_count": 4,
      "outputs": [
        {
          "output_type": "stream",
          "name": "stderr",
          "text": [
            "The cache for model files in Transformers v4.22.0 has been updated. Migrating your old cache. This is a one-time only operation. You can interrupt this and resume the migration later on by calling `transformers.utils.move_cache()`.\n"
          ]
        },
        {
          "output_type": "display_data",
          "data": {
            "text/plain": [
              "0it [00:00, ?it/s]"
            ],
            "application/vnd.jupyter.widget-view+json": {
              "version_major": 2,
              "version_minor": 0,
              "model_id": "04c91f73efdd4aeabc9b3d13507190e4"
            }
          },
          "metadata": {}
        }
      ]
    },
    {
      "cell_type": "code",
      "source": [
        "num_epochs = 2\n",
        "train_losses = []\n",
        "val_losses = []\n",
        "train_accuracies = []\n",
        "val_accuracies = []\n",
        "start_time = time.time()\n",
        "criterion = torch.nn.CrossEntropyLoss()\n",
        "optimizer = torch.optim.AdamW(model.parameters(), lr=1e-4)\n",
        "\n",
        "def train_epoch(model, yukleyiciler, veriSetiBoyutlari, optimizer, criterion, cihaz):\n",
        "    model.train()\n",
        "    running_loss = 0.0\n",
        "    running_corrects = 0\n",
        "\n",
        "    for i, (inputs, labels) in enumerate(yukleyiciler['train']):\n",
        "        inputs = inputs.to(cihaz)\n",
        "        labels = labels.to(cihaz)\n",
        "\n",
        "        optimizer.zero_grad()\n",
        "\n",
        "        with torch.set_grad_enabled(True):\n",
        "            outputs = model(inputs)\n",
        "            _, preds = torch.max(outputs, 1)\n",
        "            loss = criterion(outputs, labels)\n",
        "\n",
        "            loss.backward()\n",
        "            optimizer.step()\n",
        "\n",
        "        running_loss += loss.item() * inputs.size(0)\n",
        "        running_corrects += torch.sum(preds == labels.data)\n",
        "\n",
        "        if (i + 1) % 10 == 0:\n",
        "            batch_accuracy = torch.sum(preds == labels.data).item() / labels.size(0)\n",
        "            print(f'Batch {i+1}/{len(yukleyiciler[\"train\"])}: Train Loss: {loss.item():.4f}, Batch Accuracy: {batch_accuracy*100:.2f}%')\n",
        "\n",
        "    epoch_loss = running_loss / veriSetiBoyutlari['train']\n",
        "    epoch_acc = running_corrects.double() / veriSetiBoyutlari['train'] * 100\n",
        "\n",
        "    train_losses.append(epoch_loss)\n",
        "    train_accuracies.append(epoch_acc)\n",
        "\n",
        "    print(f'Epoch Train Loss: {epoch_loss:.4f}, Epoch Train Accuracy: {epoch_acc:.2f}%')\n",
        "    return epoch_loss, epoch_acc\n",
        "\n",
        "def validate_epoch(model, yukleyiciler, veriSetiBoyutlari, criterion, cihaz):\n",
        "    model.eval()\n",
        "    running_loss = 0.0\n",
        "    running_corrects = 0\n",
        "\n",
        "    for i, (inputs, labels) in enumerate(yukleyiciler['val']):\n",
        "        inputs = inputs.to(cihaz)\n",
        "        labels = labels.to(cihaz)\n",
        "\n",
        "        with torch.set_grad_enabled(False):\n",
        "            outputs = model(inputs)\n",
        "            _, preds = torch.max(outputs, 1)\n",
        "            loss = criterion(outputs, labels)\n",
        "\n",
        "        running_loss += loss.item() * inputs.size(0)\n",
        "        running_corrects += torch.sum(preds == labels.data)\n",
        "\n",
        "        if (i + 1) % 10 == 0:\n",
        "            batch_accuracy = torch.sum(preds == labels.data).item() / labels.size(0)\n",
        "            print(f'Batch {i+1}/{len(yukleyiciler[\"val\"])}: Val Loss: {loss.item():.4f}, Batch Accuracy: {batch_accuracy*100:.2f}%')\n",
        "\n",
        "    epoch_loss = running_loss / veriSetiBoyutlari['val']\n",
        "    epoch_acc = running_corrects.double() / veriSetiBoyutlari['val'] * 100\n",
        "\n",
        "    val_losses.append(epoch_loss)\n",
        "    val_accuracies.append(epoch_acc)\n",
        "\n",
        "    print(f'Epoch Val Loss: {epoch_loss:.4f}, Epoch Val Accuracy: {epoch_acc:.2f}%')\n",
        "    return epoch_loss, epoch_acc\n",
        "\n",
        "for epoch in range(1, num_epochs + 1):\n",
        "    print(f'Epoch {epoch}/{num_epochs}')\n",
        "    print('-' * 10)\n",
        "\n",
        "    train_loss, train_acc = train_epoch(model, yukleyiciler, veriSetiBoyutlari, optimizer, criterion, cihaz)\n",
        "    val_loss, val_acc = validate_epoch(model, yukleyiciler, veriSetiBoyutlari, criterion, cihaz)\n",
        "\n",
        "training_time = time.time() - start_time\n",
        "print(f'Total Training Time: {training_time:.2f} seconds')\n",
        "print('Eğitim tamamlandı')"
      ],
      "metadata": {
        "colab": {
          "base_uri": "https://localhost:8080/"
        },
        "id": "3bi_PH7wf5y1",
        "outputId": "b9a81cfd-ebdf-45c7-8fce-b37ddee87bff"
      },
      "execution_count": 6,
      "outputs": [
        {
          "output_type": "stream",
          "name": "stdout",
          "text": [
            "Epoch 1/2\n",
            "----------\n",
            "Batch 10/425: Train Loss: 1.1474, Batch Accuracy: 71.09%\n",
            "Batch 20/425: Train Loss: 0.5329, Batch Accuracy: 82.03%\n",
            "Batch 30/425: Train Loss: 0.4024, Batch Accuracy: 85.16%\n",
            "Batch 40/425: Train Loss: 0.3357, Batch Accuracy: 88.28%\n",
            "Batch 50/425: Train Loss: 0.3628, Batch Accuracy: 89.84%\n",
            "Batch 60/425: Train Loss: 0.2123, Batch Accuracy: 92.19%\n",
            "Batch 70/425: Train Loss: 0.1902, Batch Accuracy: 95.31%\n",
            "Batch 80/425: Train Loss: 0.1992, Batch Accuracy: 94.53%\n",
            "Batch 90/425: Train Loss: 0.2002, Batch Accuracy: 93.75%\n",
            "Batch 100/425: Train Loss: 0.2004, Batch Accuracy: 95.31%\n",
            "Batch 110/425: Train Loss: 0.1247, Batch Accuracy: 96.88%\n",
            "Batch 120/425: Train Loss: 0.0951, Batch Accuracy: 96.88%\n",
            "Batch 130/425: Train Loss: 0.1189, Batch Accuracy: 96.88%\n",
            "Batch 140/425: Train Loss: 0.0599, Batch Accuracy: 99.22%\n",
            "Batch 150/425: Train Loss: 0.0348, Batch Accuracy: 99.22%\n",
            "Batch 160/425: Train Loss: 0.0353, Batch Accuracy: 98.44%\n",
            "Batch 170/425: Train Loss: 0.0328, Batch Accuracy: 99.22%\n",
            "Batch 180/425: Train Loss: 0.0443, Batch Accuracy: 98.44%\n",
            "Batch 190/425: Train Loss: 0.0482, Batch Accuracy: 97.66%\n",
            "Batch 200/425: Train Loss: 0.0895, Batch Accuracy: 96.88%\n",
            "Batch 210/425: Train Loss: 0.0186, Batch Accuracy: 100.00%\n",
            "Batch 220/425: Train Loss: 0.0081, Batch Accuracy: 100.00%\n",
            "Batch 230/425: Train Loss: 0.0854, Batch Accuracy: 97.66%\n",
            "Batch 240/425: Train Loss: 0.0636, Batch Accuracy: 97.66%\n",
            "Batch 250/425: Train Loss: 0.0608, Batch Accuracy: 97.66%\n",
            "Batch 260/425: Train Loss: 0.0348, Batch Accuracy: 98.44%\n",
            "Batch 270/425: Train Loss: 0.0279, Batch Accuracy: 98.44%\n",
            "Batch 280/425: Train Loss: 0.0129, Batch Accuracy: 100.00%\n",
            "Batch 290/425: Train Loss: 0.0312, Batch Accuracy: 99.22%\n",
            "Batch 300/425: Train Loss: 0.0335, Batch Accuracy: 99.22%\n",
            "Batch 310/425: Train Loss: 0.0366, Batch Accuracy: 98.44%\n",
            "Batch 320/425: Train Loss: 0.0114, Batch Accuracy: 100.00%\n",
            "Batch 330/425: Train Loss: 0.0081, Batch Accuracy: 100.00%\n",
            "Batch 340/425: Train Loss: 0.0255, Batch Accuracy: 99.22%\n",
            "Batch 350/425: Train Loss: 0.0354, Batch Accuracy: 99.22%\n",
            "Batch 360/425: Train Loss: 0.0787, Batch Accuracy: 97.66%\n",
            "Batch 370/425: Train Loss: 0.0265, Batch Accuracy: 99.22%\n",
            "Batch 380/425: Train Loss: 0.0130, Batch Accuracy: 100.00%\n",
            "Batch 390/425: Train Loss: 0.0421, Batch Accuracy: 97.66%\n",
            "Batch 400/425: Train Loss: 0.0039, Batch Accuracy: 100.00%\n",
            "Batch 410/425: Train Loss: 0.0201, Batch Accuracy: 99.22%\n",
            "Batch 420/425: Train Loss: 0.0228, Batch Accuracy: 99.22%\n",
            "Epoch Train Loss: 0.1437, Epoch Train Accuracy: 95.55%\n",
            "Batch 10/12: Val Loss: 0.1453, Batch Accuracy: 96.09%\n",
            "Epoch Val Loss: 0.2183, Epoch Val Accuracy: 93.58%\n",
            "Epoch 2/2\n",
            "----------\n",
            "Batch 10/425: Train Loss: 0.0066, Batch Accuracy: 100.00%\n",
            "Batch 20/425: Train Loss: 0.0054, Batch Accuracy: 100.00%\n",
            "Batch 30/425: Train Loss: 0.0296, Batch Accuracy: 99.22%\n",
            "Batch 40/425: Train Loss: 0.0137, Batch Accuracy: 99.22%\n",
            "Batch 50/425: Train Loss: 0.0213, Batch Accuracy: 99.22%\n",
            "Batch 60/425: Train Loss: 0.0263, Batch Accuracy: 99.22%\n",
            "Batch 70/425: Train Loss: 0.0026, Batch Accuracy: 100.00%\n",
            "Batch 80/425: Train Loss: 0.0034, Batch Accuracy: 100.00%\n",
            "Batch 90/425: Train Loss: 0.0063, Batch Accuracy: 100.00%\n",
            "Batch 100/425: Train Loss: 0.0082, Batch Accuracy: 100.00%\n",
            "Batch 110/425: Train Loss: 0.0020, Batch Accuracy: 100.00%\n",
            "Batch 120/425: Train Loss: 0.0493, Batch Accuracy: 99.22%\n",
            "Batch 130/425: Train Loss: 0.0190, Batch Accuracy: 98.44%\n",
            "Batch 140/425: Train Loss: 0.0025, Batch Accuracy: 100.00%\n",
            "Batch 150/425: Train Loss: 0.0033, Batch Accuracy: 100.00%\n",
            "Batch 160/425: Train Loss: 0.0485, Batch Accuracy: 99.22%\n",
            "Batch 170/425: Train Loss: 0.0311, Batch Accuracy: 99.22%\n",
            "Batch 180/425: Train Loss: 0.0449, Batch Accuracy: 98.44%\n",
            "Batch 190/425: Train Loss: 0.0017, Batch Accuracy: 100.00%\n",
            "Batch 200/425: Train Loss: 0.0166, Batch Accuracy: 99.22%\n",
            "Batch 210/425: Train Loss: 0.0070, Batch Accuracy: 100.00%\n",
            "Batch 220/425: Train Loss: 0.0035, Batch Accuracy: 100.00%\n",
            "Batch 230/425: Train Loss: 0.0073, Batch Accuracy: 100.00%\n",
            "Batch 240/425: Train Loss: 0.0445, Batch Accuracy: 96.88%\n",
            "Batch 250/425: Train Loss: 0.0731, Batch Accuracy: 98.44%\n",
            "Batch 260/425: Train Loss: 0.0223, Batch Accuracy: 99.22%\n",
            "Batch 270/425: Train Loss: 0.0134, Batch Accuracy: 99.22%\n",
            "Batch 280/425: Train Loss: 0.0102, Batch Accuracy: 100.00%\n",
            "Batch 290/425: Train Loss: 0.0151, Batch Accuracy: 99.22%\n",
            "Batch 300/425: Train Loss: 0.0022, Batch Accuracy: 100.00%\n",
            "Batch 310/425: Train Loss: 0.0241, Batch Accuracy: 99.22%\n",
            "Batch 320/425: Train Loss: 0.0019, Batch Accuracy: 100.00%\n",
            "Batch 330/425: Train Loss: 0.0067, Batch Accuracy: 100.00%\n",
            "Batch 340/425: Train Loss: 0.0058, Batch Accuracy: 100.00%\n",
            "Batch 350/425: Train Loss: 0.0038, Batch Accuracy: 100.00%\n",
            "Batch 360/425: Train Loss: 0.0012, Batch Accuracy: 100.00%\n",
            "Batch 370/425: Train Loss: 0.0089, Batch Accuracy: 100.00%\n",
            "Batch 380/425: Train Loss: 0.0057, Batch Accuracy: 100.00%\n",
            "Batch 390/425: Train Loss: 0.0073, Batch Accuracy: 100.00%\n",
            "Batch 400/425: Train Loss: 0.0030, Batch Accuracy: 100.00%\n",
            "Batch 410/425: Train Loss: 0.0033, Batch Accuracy: 100.00%\n",
            "Batch 420/425: Train Loss: 0.0212, Batch Accuracy: 99.22%\n",
            "Epoch Train Loss: 0.0125, Epoch Train Accuracy: 99.64%\n",
            "Batch 10/12: Val Loss: 0.3172, Batch Accuracy: 89.84%\n",
            "Epoch Val Loss: 0.2308, Epoch Val Accuracy: 94.14%\n",
            "Total Training Time: 5544.56 seconds\n",
            "Eğitim tamamlandı\n"
          ]
        }
      ]
    },
    {
      "cell_type": "code",
      "source": [
        "import torch\n",
        "\n",
        "model_dosya_yolu = '/content/drive/My Drive/colabmodels/pit_models_son.h5'\n",
        "torch.save(model.state_dict(), model_dosya_yolu)\n",
        "print(f'Model başarıyla {model_dosya_yolu} yoluna kaydedildi.')"
      ],
      "metadata": {
        "colab": {
          "base_uri": "https://localhost:8080/"
        },
        "id": "jZix9z2AIegz",
        "outputId": "d27ee86f-982c-44b2-95d4-9ed74a3d42aa"
      },
      "execution_count": 15,
      "outputs": [
        {
          "output_type": "stream",
          "name": "stdout",
          "text": [
            "Model başarıyla /content/drive/My Drive/colabmodels/pit_models_son.h5 yoluna kaydedildi.\n"
          ]
        }
      ]
    },
    {
      "cell_type": "code",
      "source": [
        "import matplotlib.pyplot as plt\n",
        "\n",
        "def plot_losses(train_losses, val_losses):\n",
        "    epochs = range(1, len(train_losses) + 1)\n",
        "\n",
        "    plt.figure(figsize=(10, 5))\n",
        "    plt.plot(epochs, train_losses, 'bo-', label='Eğitim Kaybı')\n",
        "    plt.plot(epochs, val_losses, 'ro-', label='Doğrulama Kaybı')\n",
        "    plt.title('Eğitim ve Doğrulama Kaybı')\n",
        "    plt.xlabel('Epoch')\n",
        "    plt.ylabel('Kaybı')\n",
        "    plt.legend()\n",
        "    plt.grid(True)\n",
        "    plt.show()\n",
        "\n",
        "plot_losses(train_losses, val_losses)"
      ],
      "metadata": {
        "colab": {
          "base_uri": "https://localhost:8080/",
          "height": 487
        },
        "id": "oO7RgB_QJFXM",
        "outputId": "04415056-9626-4c17-e761-0e240ad0a3d0"
      },
      "execution_count": 12,
      "outputs": [
        {
          "output_type": "display_data",
          "data": {
            "text/plain": [
              "<Figure size 1000x500 with 1 Axes>"
            ],
            "image/png": "[encoded data removed]"
          },
          "metadata": {}
        }
      ]
    },
    {
      "cell_type": "code",
      "source": [
        "from sklearn.metrics import accuracy_score, precision_score, recall_score, f1_score, roc_auc_score, confusion_matrix\n",
        "import numpy as np"
      ],
      "metadata": {
        "id": "zyHjvGBxIs6D"
      },
      "execution_count": 8,
      "outputs": []
    },
    {
      "cell_type": "code",
      "source": [
        "gercek = []\n",
        "tahmin = []\n",
        "\n",
        "model.eval()\n",
        "with torch.no_grad():\n",
        "    for inputs, labels in testYukleyici:\n",
        "        inputs, labels = inputs.to(cihaz), labels.to(cihaz)\n",
        "        outputs = model(inputs)\n",
        "        _, predicted = torch.max(outputs, 1)\n",
        "\n",
        "        gercek.extend(labels.cpu().numpy())\n",
        "        tahmin.extend(predicted.cpu().numpy())\n",
        "\n",
        "confMatrix = confusion_matrix(gercek, tahmin)\n",
        "\n",
        "def hesaplaSpecificity(confMatrix):\n",
        "    specificitySinifBasina = []\n",
        "    for i in range(len(confMatrix)):\n",
        "        tn = confMatrix.sum() - (confMatrix[i, :].sum() + confMatrix[:, i].sum() - confMatrix[i, i])\n",
        "        fp = confMatrix[:, i].sum() - confMatrix[i, i]\n",
        "        specificity = tn / (tn + fp) if (tn + fp) > 0 else 0\n",
        "        specificitySinifBasina.append(specificity)\n",
        "    return np.mean(specificitySinifBasina)\n",
        "\n",
        "specificity = hesaplaSpecificity(confMatrix)\n",
        "\n",
        "accuracy = accuracy_score(gercek, tahmin)\n",
        "precision = precision_score(gercek, tahmin, average='weighted')\n",
        "recall = recall_score(gercek, tahmin, average='weighted')\n",
        "fScore = f1_score(gercek, tahmin, average='weighted')\n",
        "\n",
        "olasilik = []\n",
        "with torch.no_grad():\n",
        "    for inputs, _ in testYukleyici:\n",
        "        inputs = inputs.to(cihaz)\n",
        "        outputs = model(inputs)\n",
        "        olasiliklar = torch.softmax(outputs, dim=1)\n",
        "        olasilik.extend(olasiliklar.cpu().numpy())\n",
        "\n",
        "gercekOneHot = np.eye(len(np.unique(gercek)))[gercek]\n",
        "auc = roc_auc_score(gercekOneHot, np.array(olasilik), average='weighted', multi_class='ovr')\n",
        "\n",
        "print(f\"Accuracy: %{accuracy * 100:.2f}\")\n",
        "print(f\"Precision: %{precision * 100:.2f}\")\n",
        "print(f\"Recall: %{recall * 100:.2f}\")\n",
        "print(f\"Specificity: %{specificity * 100:.2f}\")\n",
        "print(f\"F-Score: %{fScore * 100:.2f}\")\n",
        "print(f\"AUC: %{auc * 100:.2f}\")"
      ],
      "metadata": {
        "colab": {
          "base_uri": "https://localhost:8080/"
        },
        "id": "7ZjIDqmKI016",
        "outputId": "28280df1-959f-4a69-f4d4-b6b2249365b9"
      },
      "execution_count": 9,
      "outputs": [
        {
          "output_type": "stream",
          "name": "stdout",
          "text": [
            "Accuracy: %95.20\n",
            "Precision: %95.41\n",
            "Recall: %95.20\n",
            "Specificity: %99.47\n",
            "F-Score: %95.21\n",
            "AUC: %99.74\n"
          ]
        }
      ]
    },
    {
      "cell_type": "code",
      "source": [
        "import time\n",
        "\n",
        "def cikarimHesap(model, testYukleyici, cihaz):\n",
        "    model.eval()\n",
        "    baslangicZamani = time.time()\n",
        "\n",
        "    with torch.no_grad():\n",
        "        for gorseller, _ in testYukleyici:\n",
        "            gorseller = gorseller.to(cihaz)\n",
        "            cikti = model(gorseller)\n",
        "\n",
        "    bitisZamani = time.time()\n",
        "    cikarmaZamani = bitisZamani - baslangicZamani\n",
        "    return cikarmaZamani\n",
        "\n",
        "cikarmaZamani = cikarimHesap(model, testYukleyici, cihaz)\n",
        "print(f'Çıkarım Zamanı: {cikarmaZamani:.2f} saniye')"
      ],
      "metadata": {
        "colab": {
          "base_uri": "https://localhost:8080/"
        },
        "id": "6UH7y3GxJJVr",
        "outputId": "fec30214-3ef0-4303-d446-e842eef57618"
      },
      "execution_count": 10,
      "outputs": [
        {
          "output_type": "stream",
          "name": "stdout",
          "text": [
            "Çıkarım Zamanı: 5.25 saniye\n"
          ]
        }
      ]
    },
    {
      "cell_type": "code",
      "source": [
        "from sklearn.metrics import roc_curve, auc\n",
        "import matplotlib.pyplot as plt\n",
        "\n",
        "def ROCEgrisi(gercek, olasilik, sinifAdlari):\n",
        "    plt.figure(figsize=(12, 8))\n",
        "\n",
        "    for i, sinifAdi in enumerate(sinifAdlari):\n",
        "        fpr, tpr, _ = roc_curve(gercek[:, i], olasilik[:, i])\n",
        "        roc_auc = auc(fpr, tpr)\n",
        "\n",
        "        plt.plot(fpr, tpr, label=f'{sinifAdi} (AUC = {roc_auc:.2f})')\n",
        "\n",
        "    plt.xlim([0.0, 0.3])\n",
        "    plt.ylim([0.9, 1.0])\n",
        "    plt.xlabel('Yanlış Pozitif Oranı', fontsize=14)\n",
        "    plt.ylabel('Doğru Pozitif Oranı', fontsize=14)\n",
        "    plt.title('ROC - Receiver Operating Characteristic', fontsize=16)\n",
        "    plt.legend(loc='lower right', prop={'size': 12})\n",
        "    plt.grid(True)\n",
        "    plt.show()\n",
        "\n",
        "gercek = []\n",
        "olasilik = []\n",
        "\n",
        "model.eval()\n",
        "with torch.no_grad():\n",
        "    for inputs, labels in testYukleyici:\n",
        "        inputs, labels = inputs.to(cihaz), labels.to(cihaz)\n",
        "        outputs = model(inputs)\n",
        "        olasiliklar = torch.softmax(outputs, dim=1)\n",
        "\n",
        "        gercek.extend(labels.cpu().numpy())\n",
        "        olasilik.extend(olasiliklar.cpu().numpy())\n",
        "\n",
        "gercekOneHot = np.eye(len(np.unique(gercek)))[gercek]\n",
        "olasilik = np.array(olasilik)\n",
        "\n",
        "sinifAdlari = testSeti.classes\n",
        "\n",
        "ROCEgrisi(gercekOneHot, olasilik, sinifAdlari)"
      ],
      "metadata": {
        "colab": {
          "base_uri": "https://localhost:8080/",
          "height": 725
        },
        "id": "kXLnmusbJL0T",
        "outputId": "a2db8241-3f4c-4a95-f406-ad647e7c5f57"
      },
      "execution_count": 11,
      "outputs": [
        {
          "output_type": "display_data",
          "data": {
            "text/plain": [
              "<Figure size 1200x800 with 1 Axes>"
            ],
            "image/png": "[encoded data removed]"
          },
          "metadata": {}
        }
      ]
    },
    {
      "cell_type": "code",
      "source": [
        "import seaborn as sns\n",
        "\n",
        "def karmasiklikMatris(gercek, tahmin, sinifAdlari):\n",
        "    confMatrix = confusion_matrix(gercek, tahmin)\n",
        "\n",
        "    plt.figure(figsize=(10, 7))\n",
        "    sns.heatmap(confMatrix, annot=True, fmt='d', cmap='Blues', xticklabels=sinifAdlari, yticklabels=sinifAdlari)\n",
        "    plt.xlabel('Tahmin Edilen')\n",
        "    plt.ylabel('Gerçek')\n",
        "    plt.title('Karmaşıklık Matrisi')\n",
        "    plt.show()\n",
        "\n",
        "gercek = []\n",
        "tahmin = []\n",
        "\n",
        "model.eval()\n",
        "with torch.no_grad():\n",
        "    for inputs, labels in testYukleyici:\n",
        "        inputs, labels = inputs.to(cihaz), labels.to(cihaz)\n",
        "        outputs = model(inputs)\n",
        "        _, predicted = torch.max(outputs, 1)\n",
        "\n",
        "        gercek.extend(labels.cpu().numpy())\n",
        "        tahmin.extend(predicted.cpu().numpy())\n",
        "\n",
        "sinifAdlari = testSeti.classes\n",
        "\n",
        "karmasiklikMatris(gercek, tahmin, sinifAdlari)"
      ],
      "metadata": {
        "colab": {
          "base_uri": "https://localhost:8080/",
          "height": 748
        },
        "id": "DPMvEU5JJQKe",
        "outputId": "ec878e07-9674-48ac-e440-741c214e3cf7"
      },
      "execution_count": 14,
      "outputs": [
        {
          "output_type": "display_data",
          "data": {
            "text/plain": [
              "<Figure size 1000x700 with 2 Axes>"
            ],
            "image/png": "[encoded data removed]"
          },
          "metadata": {}
        }
      ]
    },
    {
      "cell_type": "markdown",
      "source": [],
      "metadata": {
        "id": "pJDHqF29OWAl"
      }
    }
  ]
}